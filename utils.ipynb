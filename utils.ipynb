{
 "cells": [
  {
   "cell_type": "code",
   "execution_count": 4,
   "metadata": {},
   "outputs": [],
   "source": [
    "import numpy as np\n",
    "import matplotlib.pyplot as plt\n",
    "# import import_ipynb\n",
    "# from environment import GameOfLifeEnv"
   ]
  },
  {
   "cell_type": "code",
   "execution_count": 2,
   "metadata": {},
   "outputs": [],
   "source": [
    "def take_epsilon_greedy_action(Qs, eps, actions):\n",
    "    p = np.random.uniform()\n",
    "    if (p < eps):\n",
    "#         print('taking a random action')\n",
    "        a = np.random.choice(actions)\n",
    "    else: \n",
    "        m = np.amax(Qs)\n",
    "        all_argmax_positions = [i for i, j in enumerate(Qs) if j == m]\n",
    "#         print(f'Taking a greedy action. There are {len(all_argmax_positions)} actions with max value')\n",
    "        a = np.random.choice(all_argmax_positions)\n",
    "    return a \n",
    "\n",
    "def take_random_action(state):\n",
    "    return int(np.random.uniform(0, len(state)**2, 1))\n",
    "    \n",
    "def get_state_id(state):\n",
    "    id = 0\n",
    "    for index, value in enumerate(state.flatten()):\n",
    "        id += 2**index * value\n",
    "    return id\n",
    "    "
   ]
  },
  {
   "cell_type": "code",
   "execution_count": 1,
   "metadata": {},
   "outputs": [],
   "source": [
    "def convert_action(grid_size=20, subregion_size=4, subregion=0, action_in_subregion=0):\n",
    "    if grid_size % subregion_size != 0:\n",
    "        return 'za sq subregion_size trqbva da deli tochno grid_size, opravqi se'\n",
    "\n",
    "    subreg_on_each_side = grid_size / subregion_size\n",
    "    subreg_x = subregion // subreg_on_each_side\n",
    "    subreg_y = subregion % subreg_on_each_side\n",
    "    a_in_sub_x = action_in_subregion // subregion_size\n",
    "    a_in_sub_y = action_in_subregion % subregion_size\n",
    "    a_x = subreg_x * subregion_size + a_in_sub_x\n",
    "    a_y = subreg_y * subregion_size + a_in_sub_y\n",
    "    a = grid_size * a_x + a_y\n",
    "    # print(a)\n",
    "    return int(a)\n",
    " "
   ]
  },
  {
   "cell_type": "code",
   "execution_count": 2,
   "metadata": {},
   "outputs": [],
   "source": [
    "def get_subregions_ids(state, subregion_size=4):\n",
    "  # state is a square 2D np.array\n",
    "  # reuses the definition of state id from function get_state_id(state)\n",
    "  # returns an array with size the number of subregions and contaning the id's for each subregion\n",
    "\n",
    "  grid_size = int(state.shape[0])\n",
    "  if grid_size % subregion_size != 0:\n",
    "    return 'za sq subregion_size trqbva da deli tochno grid_size, opravqi se'\n",
    "\n",
    "  ids = []\n",
    "\n",
    "  for i in range(0, grid_size, subregion_size):\n",
    "    for j in range(0, grid_size, subregion_size):\n",
    "      id = get_state_id(state[i:i+subregion_size, j:j+subregion_size])\n",
    "      ids.append(id)\n",
    "        \n",
    "  return np.array(ids)\n",
    "\n"
   ]
  },
  {
   "cell_type": "code",
   "execution_count": 2,
   "metadata": {},
   "outputs": [],
   "source": [
    "def select_region_and_action(Q, region_size, eps, ids):\n",
    "    max_actions_for_each_subregion = []\n",
    "    for s_id in ids:\n",
    "        if s_id not in Q:\n",
    "            Q[s_id] = np.zeros(region_size ** 2)\n",
    "        max_actions_for_each_subregion.append(np.max(Q[s_id]))\n",
    "        \n",
    "    selected_subregion = take_epsilon_greedy_action(max_actions_for_each_subregion, eps, np.arange(len(ids)))\n",
    "    selected_subregion_id = ids[selected_subregion]\n",
    "    action = take_epsilon_greedy_action(Q[selected_subregion_id], eps, np.arange(region_size ** 2))\n",
    "    return (selected_subregion, action)"
   ]
  },
  {
   "cell_type": "code",
   "execution_count": 13,
   "metadata": {},
   "outputs": [],
   "source": [
    "# f = lambda x: [x]\n",
    "# s = np.zeros((10,10))\n",
    "# grozen_state = [[f(j) for j in i] for i in s]"
   ]
  },
  {
   "cell_type": "code",
   "execution_count": 14,
   "metadata": {},
   "outputs": [
    {
     "data": {
      "text/plain": [
       "[[[0.0], [0.0], [0.0], [0.0], [0.0], [0.0], [0.0], [0.0], [0.0], [0.0]],\n",
       " [[0.0], [0.0], [0.0], [0.0], [0.0], [0.0], [0.0], [0.0], [0.0], [0.0]],\n",
       " [[0.0], [0.0], [0.0], [0.0], [0.0], [0.0], [0.0], [0.0], [0.0], [0.0]],\n",
       " [[0.0], [0.0], [0.0], [0.0], [0.0], [0.0], [0.0], [0.0], [0.0], [0.0]],\n",
       " [[0.0], [0.0], [0.0], [0.0], [0.0], [0.0], [0.0], [0.0], [0.0], [0.0]],\n",
       " [[0.0], [0.0], [0.0], [0.0], [0.0], [0.0], [0.0], [0.0], [0.0], [0.0]],\n",
       " [[0.0], [0.0], [0.0], [0.0], [0.0], [0.0], [0.0], [0.0], [0.0], [0.0]],\n",
       " [[0.0], [0.0], [0.0], [0.0], [0.0], [0.0], [0.0], [0.0], [0.0], [0.0]],\n",
       " [[0.0], [0.0], [0.0], [0.0], [0.0], [0.0], [0.0], [0.0], [0.0], [0.0]],\n",
       " [[0.0], [0.0], [0.0], [0.0], [0.0], [0.0], [0.0], [0.0], [0.0], [0.0]]]"
      ]
     },
     "execution_count": 14,
     "metadata": {},
     "output_type": "execute_result"
    }
   ],
   "source": [
    "# grozen_state"
   ]
  },
  {
   "cell_type": "code",
   "execution_count": null,
   "metadata": {},
   "outputs": [],
   "source": []
  }
 ],
 "metadata": {
  "kernelspec": {
   "display_name": "rlenv",
   "language": "python",
   "name": "rlenv"
  },
  "language_info": {
   "codemirror_mode": {
    "name": "ipython",
    "version": 3
   },
   "file_extension": ".py",
   "mimetype": "text/x-python",
   "name": "python",
   "nbconvert_exporter": "python",
   "pygments_lexer": "ipython3",
   "version": "3.8.5"
  }
 },
 "nbformat": 4,
 "nbformat_minor": 4
}
